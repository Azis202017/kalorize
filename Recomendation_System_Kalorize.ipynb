{
  "nbformat": 4,
  "nbformat_minor": 0,
  "metadata": {
    "colab": {
      "provenance": []
    },
    "kernelspec": {
      "name": "python3",
      "display_name": "Python 3"
    },
    "language_info": {
      "name": "python"
    }
  },
  "cells": [
    {
      "cell_type": "code",
      "source": [
        "!pip install -q tensorflow-recommenders\n",
        "!pip install -q --upgrade tensorflow-datasets\n",
        "!pip install -q scann"
      ],
      "metadata": {
        "colab": {
          "base_uri": "https://localhost:8080/"
        },
        "id": "LOn0nC8uUtcJ",
        "outputId": "3f40cabb-2c37-4bd4-f5a3-97f108cb86a9"
      },
      "execution_count": null,
      "outputs": [
        {
          "output_type": "stream",
          "name": "stdout",
          "text": [
            "\u001b[2K     \u001b[90m━━━━━━━━━━━━━━━━━━━━━━━━━━━━━━━━━━━━━━━━\u001b[0m \u001b[32m96.2/96.2 kB\u001b[0m \u001b[31m2.0 MB/s\u001b[0m eta \u001b[36m0:00:00\u001b[0m\n",
            "\u001b[2K     \u001b[90m━━━━━━━━━━━━━━━━━━━━━━━━━━━━━━━━━━━━━━━━\u001b[0m \u001b[32m9.6/9.6 MB\u001b[0m \u001b[31m7.1 MB/s\u001b[0m eta \u001b[36m0:00:00\u001b[0m\n",
            "\u001b[2K     \u001b[90m━━━━━━━━━━━━━━━━━━━━━━━━━━━━━━━━━━━━━━━━\u001b[0m \u001b[32m479.7/479.7 MB\u001b[0m \u001b[31m1.8 MB/s\u001b[0m eta \u001b[36m0:00:00\u001b[0m\n",
            "\u001b[2K     \u001b[90m━━━━━━━━━━━━━━━━━━━━━━━━━━━━━━━━━━━━━━━━\u001b[0m \u001b[32m1.7/1.7 MB\u001b[0m \u001b[31m58.0 MB/s\u001b[0m eta \u001b[36m0:00:00\u001b[0m\n",
            "\u001b[2K     \u001b[90m━━━━━━━━━━━━━━━━━━━━━━━━━━━━━━━━━━━━━━━━\u001b[0m \u001b[32m5.6/5.6 MB\u001b[0m \u001b[31m56.0 MB/s\u001b[0m eta \u001b[36m0:00:00\u001b[0m\n",
            "\u001b[2K     \u001b[90m━━━━━━━━━━━━━━━━━━━━━━━━━━━━━━━━━━━━━━━━\u001b[0m \u001b[32m440.8/440.8 kB\u001b[0m \u001b[31m33.9 MB/s\u001b[0m eta \u001b[36m0:00:00\u001b[0m\n",
            "\u001b[?25h"
          ]
        }
      ]
    },
    {
      "cell_type": "code",
      "source": [
        "import os\n",
        "import pprint\n",
        "import tempfile\n",
        "\n",
        "from typing import Dict, Text\n",
        "\n",
        "import numpy as np\n",
        "import tensorflow as tf\n",
        "import tensorflow_datasets as tfds\n",
        "import tensorflow_recommenders as tfrs\n",
        "from sklearn import preprocessing\n",
        "from sklearn.preprocessing import MinMaxScaler\n",
        "from sklearn.neighbors import NearestNeighbors\n",
        "import html\n",
        "# pd.set_option('display.max_columns', None)\n",
        "# pd.set_option('display.max_rows', None)\n",
        "# pd.set_option('display.expand_frame_repr', False)"
      ],
      "metadata": {
        "id": "QWLE68ibWNJb"
      },
      "execution_count": null,
      "outputs": []
    },
    {
      "cell_type": "code",
      "execution_count": null,
      "metadata": {
        "colab": {
          "base_uri": "https://localhost:8080/",
          "height": 107
        },
        "id": "II9xt7HhNqBk",
        "outputId": "6f94c35b-9a65-4b42-b913-cd656874ebd6"
      },
      "outputs": [
        {
          "output_type": "display_data",
          "data": {
            "text/plain": [
              "<IPython.core.display.HTML object>"
            ],
            "text/html": [
              "\n",
              "     <input type=\"file\" id=\"files-7bffc2e9-228c-456c-8557-f0e1db275f70\" name=\"files[]\" multiple disabled\n",
              "        style=\"border:none\" />\n",
              "     <output id=\"result-7bffc2e9-228c-456c-8557-f0e1db275f70\">\n",
              "      Upload widget is only available when the cell has been executed in the\n",
              "      current browser session. Please rerun this cell to enable.\n",
              "      </output>\n",
              "      <script>// Copyright 2017 Google LLC\n",
              "//\n",
              "// Licensed under the Apache License, Version 2.0 (the \"License\");\n",
              "// you may not use this file except in compliance with the License.\n",
              "// You may obtain a copy of the License at\n",
              "//\n",
              "//      http://www.apache.org/licenses/LICENSE-2.0\n",
              "//\n",
              "// Unless required by applicable law or agreed to in writing, software\n",
              "// distributed under the License is distributed on an \"AS IS\" BASIS,\n",
              "// WITHOUT WARRANTIES OR CONDITIONS OF ANY KIND, either express or implied.\n",
              "// See the License for the specific language governing permissions and\n",
              "// limitations under the License.\n",
              "\n",
              "/**\n",
              " * @fileoverview Helpers for google.colab Python module.\n",
              " */\n",
              "(function(scope) {\n",
              "function span(text, styleAttributes = {}) {\n",
              "  const element = document.createElement('span');\n",
              "  element.textContent = text;\n",
              "  for (const key of Object.keys(styleAttributes)) {\n",
              "    element.style[key] = styleAttributes[key];\n",
              "  }\n",
              "  return element;\n",
              "}\n",
              "\n",
              "// Max number of bytes which will be uploaded at a time.\n",
              "const MAX_PAYLOAD_SIZE = 100 * 1024;\n",
              "\n",
              "function _uploadFiles(inputId, outputId) {\n",
              "  const steps = uploadFilesStep(inputId, outputId);\n",
              "  const outputElement = document.getElementById(outputId);\n",
              "  // Cache steps on the outputElement to make it available for the next call\n",
              "  // to uploadFilesContinue from Python.\n",
              "  outputElement.steps = steps;\n",
              "\n",
              "  return _uploadFilesContinue(outputId);\n",
              "}\n",
              "\n",
              "// This is roughly an async generator (not supported in the browser yet),\n",
              "// where there are multiple asynchronous steps and the Python side is going\n",
              "// to poll for completion of each step.\n",
              "// This uses a Promise to block the python side on completion of each step,\n",
              "// then passes the result of the previous step as the input to the next step.\n",
              "function _uploadFilesContinue(outputId) {\n",
              "  const outputElement = document.getElementById(outputId);\n",
              "  const steps = outputElement.steps;\n",
              "\n",
              "  const next = steps.next(outputElement.lastPromiseValue);\n",
              "  return Promise.resolve(next.value.promise).then((value) => {\n",
              "    // Cache the last promise value to make it available to the next\n",
              "    // step of the generator.\n",
              "    outputElement.lastPromiseValue = value;\n",
              "    return next.value.response;\n",
              "  });\n",
              "}\n",
              "\n",
              "/**\n",
              " * Generator function which is called between each async step of the upload\n",
              " * process.\n",
              " * @param {string} inputId Element ID of the input file picker element.\n",
              " * @param {string} outputId Element ID of the output display.\n",
              " * @return {!Iterable<!Object>} Iterable of next steps.\n",
              " */\n",
              "function* uploadFilesStep(inputId, outputId) {\n",
              "  const inputElement = document.getElementById(inputId);\n",
              "  inputElement.disabled = false;\n",
              "\n",
              "  const outputElement = document.getElementById(outputId);\n",
              "  outputElement.innerHTML = '';\n",
              "\n",
              "  const pickedPromise = new Promise((resolve) => {\n",
              "    inputElement.addEventListener('change', (e) => {\n",
              "      resolve(e.target.files);\n",
              "    });\n",
              "  });\n",
              "\n",
              "  const cancel = document.createElement('button');\n",
              "  inputElement.parentElement.appendChild(cancel);\n",
              "  cancel.textContent = 'Cancel upload';\n",
              "  const cancelPromise = new Promise((resolve) => {\n",
              "    cancel.onclick = () => {\n",
              "      resolve(null);\n",
              "    };\n",
              "  });\n",
              "\n",
              "  // Wait for the user to pick the files.\n",
              "  const files = yield {\n",
              "    promise: Promise.race([pickedPromise, cancelPromise]),\n",
              "    response: {\n",
              "      action: 'starting',\n",
              "    }\n",
              "  };\n",
              "\n",
              "  cancel.remove();\n",
              "\n",
              "  // Disable the input element since further picks are not allowed.\n",
              "  inputElement.disabled = true;\n",
              "\n",
              "  if (!files) {\n",
              "    return {\n",
              "      response: {\n",
              "        action: 'complete',\n",
              "      }\n",
              "    };\n",
              "  }\n",
              "\n",
              "  for (const file of files) {\n",
              "    const li = document.createElement('li');\n",
              "    li.append(span(file.name, {fontWeight: 'bold'}));\n",
              "    li.append(span(\n",
              "        `(${file.type || 'n/a'}) - ${file.size} bytes, ` +\n",
              "        `last modified: ${\n",
              "            file.lastModifiedDate ? file.lastModifiedDate.toLocaleDateString() :\n",
              "                                    'n/a'} - `));\n",
              "    const percent = span('0% done');\n",
              "    li.appendChild(percent);\n",
              "\n",
              "    outputElement.appendChild(li);\n",
              "\n",
              "    const fileDataPromise = new Promise((resolve) => {\n",
              "      const reader = new FileReader();\n",
              "      reader.onload = (e) => {\n",
              "        resolve(e.target.result);\n",
              "      };\n",
              "      reader.readAsArrayBuffer(file);\n",
              "    });\n",
              "    // Wait for the data to be ready.\n",
              "    let fileData = yield {\n",
              "      promise: fileDataPromise,\n",
              "      response: {\n",
              "        action: 'continue',\n",
              "      }\n",
              "    };\n",
              "\n",
              "    // Use a chunked sending to avoid message size limits. See b/62115660.\n",
              "    let position = 0;\n",
              "    do {\n",
              "      const length = Math.min(fileData.byteLength - position, MAX_PAYLOAD_SIZE);\n",
              "      const chunk = new Uint8Array(fileData, position, length);\n",
              "      position += length;\n",
              "\n",
              "      const base64 = btoa(String.fromCharCode.apply(null, chunk));\n",
              "      yield {\n",
              "        response: {\n",
              "          action: 'append',\n",
              "          file: file.name,\n",
              "          data: base64,\n",
              "        },\n",
              "      };\n",
              "\n",
              "      let percentDone = fileData.byteLength === 0 ?\n",
              "          100 :\n",
              "          Math.round((position / fileData.byteLength) * 100);\n",
              "      percent.textContent = `${percentDone}% done`;\n",
              "\n",
              "    } while (position < fileData.byteLength);\n",
              "  }\n",
              "\n",
              "  // All done.\n",
              "  yield {\n",
              "    response: {\n",
              "      action: 'complete',\n",
              "    }\n",
              "  };\n",
              "}\n",
              "\n",
              "scope.google = scope.google || {};\n",
              "scope.google.colab = scope.google.colab || {};\n",
              "scope.google.colab._files = {\n",
              "  _uploadFiles,\n",
              "  _uploadFilesContinue,\n",
              "};\n",
              "})(self);\n",
              "</script> "
            ]
          },
          "metadata": {}
        },
        {
          "output_type": "stream",
          "name": "stdout",
          "text": [
            "Saving cleaned_recipes.xlsx to cleaned_recipes.xlsx\n",
            "File cleaned_recipes.xlsx berhasil diunggah dengan ukuran 7379416 bytes\n"
          ]
        }
      ],
      "source": [
        "from google.colab import files\n",
        "\n",
        "# Mengunggah file dari komputer lokal ke Colab\n",
        "uploaded = files.upload()\n",
        "\n",
        "# Menampilkan informasi tentang file yang diunggah\n",
        "for filename in uploaded.keys():\n",
        "    print(f'File {filename} berhasil diunggah dengan ukuran {len(uploaded[filename])} bytes')"
      ]
    },
    {
      "cell_type": "code",
      "source": [
        "import pandas as pd\n",
        "\n",
        "# Replace 'your_file.xlsx' with the actual file path of your Excel file.\n",
        "df = pd.read_excel('cleaned_recipes.xlsx')\n",
        "df"
      ],
      "metadata": {
        "colab": {
          "base_uri": "https://localhost:8080/",
          "height": 719
        },
        "id": "PXOEouOcRUp7",
        "outputId": "4a908b6b-5fdf-4fc4-a1ee-1ce250f1ba53"
      },
      "execution_count": null,
      "outputs": [
        {
          "output_type": "execute_result",
          "data": {
            "text/plain": [
              "       id_makanan                                               nama  kalori  \\\n",
              "0              41                     Carina's Tofu-Vegetable Kebabs   536.1   \n",
              "1              64                                  Almond Pound Cake   408.5   \n",
              "2              94                              Blueberry Buttertarts   337.9   \n",
              "3             131                               Buttermilk-Oat Bread    68.7   \n",
              "4             168                                     Anzac Biscuits   199.4   \n",
              "...           ...                                                ...     ...   \n",
              "22712      539056  Belgian Tomato Meatball Soup (Tomatensoep Met ...   192.8   \n",
              "22713      539304               Pork Tenderloin With Bacon-Onion Jam   558.4   \n",
              "22714      539476                Thai Basil Chicken (Gai Pad Krapow)   300.5   \n",
              "22715      540238                             Keto King's Best Bread    50.4   \n",
              "22716      540899                        Butter Pecan Banana Muffins   232.3   \n",
              "\n",
              "       protein                                              bahan  \\\n",
              "0         29.3  extra firm tofu, eggplant, zucchini, mushrooms...   \n",
              "1          6.9  butter, almond paste, sugar, eggs, flour, corn...   \n",
              "2          4.2  egg, corn syrup, lemon juice, vanilla, brown s...   \n",
              "3          2.1  buttermilk, honey, butter, margarine, bread fl...   \n",
              "4          2.2  rolled oats, plain flour, sugar, golden syrup,...   \n",
              "...        ...                                                ...   \n",
              "22712      8.5  chopped tomato, fresh tomatoes, fresh carrot, ...   \n",
              "22713     33.2  olive oil, red onion, bacon, fresh thyme, brow...   \n",
              "22714     22.6  shallots, garlic cloves, ground chicken, sugar...   \n",
              "22715      2.0  flax seed meal, vital wheat gluten, xanthan gu...   \n",
              "22716      3.3  pecans, unsalted butter, all-purpose flour, ba...   \n",
              "\n",
              "                                            cooking_step  \n",
              "0      Drain the tofu, carefully squeezing out excess...  \n",
              "1      Preheat oven to 350 degrees Fahrenheit., Cream...  \n",
              "2      Preheat oven to 375F., Leave shells in foil cu...  \n",
              "3      For toasted rolled oats, place oats in a shall...  \n",
              "4      Mix oats, flour, sugar and coconut together., ...  \n",
              "...                                                  ...  \n",
              "22712  Add the butter to a large and high pan. Place ...  \n",
              "22713  For the bacon-onion jam: Heat the oil in a cas...  \n",
              "22714  In a wok over high heat, add the oil, chilies,...  \n",
              "22715  Combine yeast, honey and warm water., Allow to...  \n",
              "22716  Heat oven to 375 degrees. Coat a standard 12-c...  \n",
              "\n",
              "[22717 rows x 6 columns]"
            ],
            "text/html": [
              "\n",
              "  <div id=\"df-3780387d-ade8-4fd6-9068-41ba2a8c2450\" class=\"colab-df-container\">\n",
              "    <div>\n",
              "<style scoped>\n",
              "    .dataframe tbody tr th:only-of-type {\n",
              "        vertical-align: middle;\n",
              "    }\n",
              "\n",
              "    .dataframe tbody tr th {\n",
              "        vertical-align: top;\n",
              "    }\n",
              "\n",
              "    .dataframe thead th {\n",
              "        text-align: right;\n",
              "    }\n",
              "</style>\n",
              "<table border=\"1\" class=\"dataframe\">\n",
              "  <thead>\n",
              "    <tr style=\"text-align: right;\">\n",
              "      <th></th>\n",
              "      <th>id_makanan</th>\n",
              "      <th>nama</th>\n",
              "      <th>kalori</th>\n",
              "      <th>protein</th>\n",
              "      <th>bahan</th>\n",
              "      <th>cooking_step</th>\n",
              "    </tr>\n",
              "  </thead>\n",
              "  <tbody>\n",
              "    <tr>\n",
              "      <th>0</th>\n",
              "      <td>41</td>\n",
              "      <td>Carina's Tofu-Vegetable Kebabs</td>\n",
              "      <td>536.1</td>\n",
              "      <td>29.3</td>\n",
              "      <td>extra firm tofu, eggplant, zucchini, mushrooms...</td>\n",
              "      <td>Drain the tofu, carefully squeezing out excess...</td>\n",
              "    </tr>\n",
              "    <tr>\n",
              "      <th>1</th>\n",
              "      <td>64</td>\n",
              "      <td>Almond Pound Cake</td>\n",
              "      <td>408.5</td>\n",
              "      <td>6.9</td>\n",
              "      <td>butter, almond paste, sugar, eggs, flour, corn...</td>\n",
              "      <td>Preheat oven to 350 degrees Fahrenheit., Cream...</td>\n",
              "    </tr>\n",
              "    <tr>\n",
              "      <th>2</th>\n",
              "      <td>94</td>\n",
              "      <td>Blueberry Buttertarts</td>\n",
              "      <td>337.9</td>\n",
              "      <td>4.2</td>\n",
              "      <td>egg, corn syrup, lemon juice, vanilla, brown s...</td>\n",
              "      <td>Preheat oven to 375F., Leave shells in foil cu...</td>\n",
              "    </tr>\n",
              "    <tr>\n",
              "      <th>3</th>\n",
              "      <td>131</td>\n",
              "      <td>Buttermilk-Oat Bread</td>\n",
              "      <td>68.7</td>\n",
              "      <td>2.1</td>\n",
              "      <td>buttermilk, honey, butter, margarine, bread fl...</td>\n",
              "      <td>For toasted rolled oats, place oats in a shall...</td>\n",
              "    </tr>\n",
              "    <tr>\n",
              "      <th>4</th>\n",
              "      <td>168</td>\n",
              "      <td>Anzac Biscuits</td>\n",
              "      <td>199.4</td>\n",
              "      <td>2.2</td>\n",
              "      <td>rolled oats, plain flour, sugar, golden syrup,...</td>\n",
              "      <td>Mix oats, flour, sugar and coconut together., ...</td>\n",
              "    </tr>\n",
              "    <tr>\n",
              "      <th>...</th>\n",
              "      <td>...</td>\n",
              "      <td>...</td>\n",
              "      <td>...</td>\n",
              "      <td>...</td>\n",
              "      <td>...</td>\n",
              "      <td>...</td>\n",
              "    </tr>\n",
              "    <tr>\n",
              "      <th>22712</th>\n",
              "      <td>539056</td>\n",
              "      <td>Belgian Tomato Meatball Soup (Tomatensoep Met ...</td>\n",
              "      <td>192.8</td>\n",
              "      <td>8.5</td>\n",
              "      <td>chopped tomato, fresh tomatoes, fresh carrot, ...</td>\n",
              "      <td>Add the butter to a large and high pan. Place ...</td>\n",
              "    </tr>\n",
              "    <tr>\n",
              "      <th>22713</th>\n",
              "      <td>539304</td>\n",
              "      <td>Pork Tenderloin With Bacon-Onion Jam</td>\n",
              "      <td>558.4</td>\n",
              "      <td>33.2</td>\n",
              "      <td>olive oil, red onion, bacon, fresh thyme, brow...</td>\n",
              "      <td>For the bacon-onion jam: Heat the oil in a cas...</td>\n",
              "    </tr>\n",
              "    <tr>\n",
              "      <th>22714</th>\n",
              "      <td>539476</td>\n",
              "      <td>Thai Basil Chicken (Gai Pad Krapow)</td>\n",
              "      <td>300.5</td>\n",
              "      <td>22.6</td>\n",
              "      <td>shallots, garlic cloves, ground chicken, sugar...</td>\n",
              "      <td>In a wok over high heat, add the oil, chilies,...</td>\n",
              "    </tr>\n",
              "    <tr>\n",
              "      <th>22715</th>\n",
              "      <td>540238</td>\n",
              "      <td>Keto King's Best Bread</td>\n",
              "      <td>50.4</td>\n",
              "      <td>2.0</td>\n",
              "      <td>flax seed meal, vital wheat gluten, xanthan gu...</td>\n",
              "      <td>Combine yeast, honey and warm water., Allow to...</td>\n",
              "    </tr>\n",
              "    <tr>\n",
              "      <th>22716</th>\n",
              "      <td>540899</td>\n",
              "      <td>Butter Pecan Banana Muffins</td>\n",
              "      <td>232.3</td>\n",
              "      <td>3.3</td>\n",
              "      <td>pecans, unsalted butter, all-purpose flour, ba...</td>\n",
              "      <td>Heat oven to 375 degrees. Coat a standard 12-c...</td>\n",
              "    </tr>\n",
              "  </tbody>\n",
              "</table>\n",
              "<p>22717 rows × 6 columns</p>\n",
              "</div>\n",
              "    <div class=\"colab-df-buttons\">\n",
              "\n",
              "  <div class=\"colab-df-container\">\n",
              "    <button class=\"colab-df-convert\" onclick=\"convertToInteractive('df-3780387d-ade8-4fd6-9068-41ba2a8c2450')\"\n",
              "            title=\"Convert this dataframe to an interactive table.\"\n",
              "            style=\"display:none;\">\n",
              "\n",
              "  <svg xmlns=\"http://www.w3.org/2000/svg\" height=\"24px\" viewBox=\"0 -960 960 960\">\n",
              "    <path d=\"M120-120v-720h720v720H120Zm60-500h600v-160H180v160Zm220 220h160v-160H400v160Zm0 220h160v-160H400v160ZM180-400h160v-160H180v160Zm440 0h160v-160H620v160ZM180-180h160v-160H180v160Zm440 0h160v-160H620v160Z\"/>\n",
              "  </svg>\n",
              "    </button>\n",
              "\n",
              "  <style>\n",
              "    .colab-df-container {\n",
              "      display:flex;\n",
              "      gap: 12px;\n",
              "    }\n",
              "\n",
              "    .colab-df-convert {\n",
              "      background-color: #E8F0FE;\n",
              "      border: none;\n",
              "      border-radius: 50%;\n",
              "      cursor: pointer;\n",
              "      display: none;\n",
              "      fill: #1967D2;\n",
              "      height: 32px;\n",
              "      padding: 0 0 0 0;\n",
              "      width: 32px;\n",
              "    }\n",
              "\n",
              "    .colab-df-convert:hover {\n",
              "      background-color: #E2EBFA;\n",
              "      box-shadow: 0px 1px 2px rgba(60, 64, 67, 0.3), 0px 1px 3px 1px rgba(60, 64, 67, 0.15);\n",
              "      fill: #174EA6;\n",
              "    }\n",
              "\n",
              "    .colab-df-buttons div {\n",
              "      margin-bottom: 4px;\n",
              "    }\n",
              "\n",
              "    [theme=dark] .colab-df-convert {\n",
              "      background-color: #3B4455;\n",
              "      fill: #D2E3FC;\n",
              "    }\n",
              "\n",
              "    [theme=dark] .colab-df-convert:hover {\n",
              "      background-color: #434B5C;\n",
              "      box-shadow: 0px 1px 3px 1px rgba(0, 0, 0, 0.15);\n",
              "      filter: drop-shadow(0px 1px 2px rgba(0, 0, 0, 0.3));\n",
              "      fill: #FFFFFF;\n",
              "    }\n",
              "  </style>\n",
              "\n",
              "    <script>\n",
              "      const buttonEl =\n",
              "        document.querySelector('#df-3780387d-ade8-4fd6-9068-41ba2a8c2450 button.colab-df-convert');\n",
              "      buttonEl.style.display =\n",
              "        google.colab.kernel.accessAllowed ? 'block' : 'none';\n",
              "\n",
              "      async function convertToInteractive(key) {\n",
              "        const element = document.querySelector('#df-3780387d-ade8-4fd6-9068-41ba2a8c2450');\n",
              "        const dataTable =\n",
              "          await google.colab.kernel.invokeFunction('convertToInteractive',\n",
              "                                                    [key], {});\n",
              "        if (!dataTable) return;\n",
              "\n",
              "        const docLinkHtml = 'Like what you see? Visit the ' +\n",
              "          '<a target=\"_blank\" href=https://colab.research.google.com/notebooks/data_table.ipynb>data table notebook</a>'\n",
              "          + ' to learn more about interactive tables.';\n",
              "        element.innerHTML = '';\n",
              "        dataTable['output_type'] = 'display_data';\n",
              "        await google.colab.output.renderOutput(dataTable, element);\n",
              "        const docLink = document.createElement('div');\n",
              "        docLink.innerHTML = docLinkHtml;\n",
              "        element.appendChild(docLink);\n",
              "      }\n",
              "    </script>\n",
              "  </div>\n",
              "\n",
              "\n",
              "<div id=\"df-413ca349-9489-4fb8-a69c-2baa8598457d\">\n",
              "  <button class=\"colab-df-quickchart\" onclick=\"quickchart('df-413ca349-9489-4fb8-a69c-2baa8598457d')\"\n",
              "            title=\"Suggest charts\"\n",
              "            style=\"display:none;\">\n",
              "\n",
              "<svg xmlns=\"http://www.w3.org/2000/svg\" height=\"24px\"viewBox=\"0 0 24 24\"\n",
              "     width=\"24px\">\n",
              "    <g>\n",
              "        <path d=\"M19 3H5c-1.1 0-2 .9-2 2v14c0 1.1.9 2 2 2h14c1.1 0 2-.9 2-2V5c0-1.1-.9-2-2-2zM9 17H7v-7h2v7zm4 0h-2V7h2v10zm4 0h-2v-4h2v4z\"/>\n",
              "    </g>\n",
              "</svg>\n",
              "  </button>\n",
              "\n",
              "<style>\n",
              "  .colab-df-quickchart {\n",
              "      --bg-color: #E8F0FE;\n",
              "      --fill-color: #1967D2;\n",
              "      --hover-bg-color: #E2EBFA;\n",
              "      --hover-fill-color: #174EA6;\n",
              "      --disabled-fill-color: #AAA;\n",
              "      --disabled-bg-color: #DDD;\n",
              "  }\n",
              "\n",
              "  [theme=dark] .colab-df-quickchart {\n",
              "      --bg-color: #3B4455;\n",
              "      --fill-color: #D2E3FC;\n",
              "      --hover-bg-color: #434B5C;\n",
              "      --hover-fill-color: #FFFFFF;\n",
              "      --disabled-bg-color: #3B4455;\n",
              "      --disabled-fill-color: #666;\n",
              "  }\n",
              "\n",
              "  .colab-df-quickchart {\n",
              "    background-color: var(--bg-color);\n",
              "    border: none;\n",
              "    border-radius: 50%;\n",
              "    cursor: pointer;\n",
              "    display: none;\n",
              "    fill: var(--fill-color);\n",
              "    height: 32px;\n",
              "    padding: 0;\n",
              "    width: 32px;\n",
              "  }\n",
              "\n",
              "  .colab-df-quickchart:hover {\n",
              "    background-color: var(--hover-bg-color);\n",
              "    box-shadow: 0 1px 2px rgba(60, 64, 67, 0.3), 0 1px 3px 1px rgba(60, 64, 67, 0.15);\n",
              "    fill: var(--button-hover-fill-color);\n",
              "  }\n",
              "\n",
              "  .colab-df-quickchart-complete:disabled,\n",
              "  .colab-df-quickchart-complete:disabled:hover {\n",
              "    background-color: var(--disabled-bg-color);\n",
              "    fill: var(--disabled-fill-color);\n",
              "    box-shadow: none;\n",
              "  }\n",
              "\n",
              "  .colab-df-spinner {\n",
              "    border: 2px solid var(--fill-color);\n",
              "    border-color: transparent;\n",
              "    border-bottom-color: var(--fill-color);\n",
              "    animation:\n",
              "      spin 1s steps(1) infinite;\n",
              "  }\n",
              "\n",
              "  @keyframes spin {\n",
              "    0% {\n",
              "      border-color: transparent;\n",
              "      border-bottom-color: var(--fill-color);\n",
              "      border-left-color: var(--fill-color);\n",
              "    }\n",
              "    20% {\n",
              "      border-color: transparent;\n",
              "      border-left-color: var(--fill-color);\n",
              "      border-top-color: var(--fill-color);\n",
              "    }\n",
              "    30% {\n",
              "      border-color: transparent;\n",
              "      border-left-color: var(--fill-color);\n",
              "      border-top-color: var(--fill-color);\n",
              "      border-right-color: var(--fill-color);\n",
              "    }\n",
              "    40% {\n",
              "      border-color: transparent;\n",
              "      border-right-color: var(--fill-color);\n",
              "      border-top-color: var(--fill-color);\n",
              "    }\n",
              "    60% {\n",
              "      border-color: transparent;\n",
              "      border-right-color: var(--fill-color);\n",
              "    }\n",
              "    80% {\n",
              "      border-color: transparent;\n",
              "      border-right-color: var(--fill-color);\n",
              "      border-bottom-color: var(--fill-color);\n",
              "    }\n",
              "    90% {\n",
              "      border-color: transparent;\n",
              "      border-bottom-color: var(--fill-color);\n",
              "    }\n",
              "  }\n",
              "</style>\n",
              "\n",
              "  <script>\n",
              "    async function quickchart(key) {\n",
              "      const quickchartButtonEl =\n",
              "        document.querySelector('#' + key + ' button');\n",
              "      quickchartButtonEl.disabled = true;  // To prevent multiple clicks.\n",
              "      quickchartButtonEl.classList.add('colab-df-spinner');\n",
              "      try {\n",
              "        const charts = await google.colab.kernel.invokeFunction(\n",
              "            'suggestCharts', [key], {});\n",
              "      } catch (error) {\n",
              "        console.error('Error during call to suggestCharts:', error);\n",
              "      }\n",
              "      quickchartButtonEl.classList.remove('colab-df-spinner');\n",
              "      quickchartButtonEl.classList.add('colab-df-quickchart-complete');\n",
              "    }\n",
              "    (() => {\n",
              "      let quickchartButtonEl =\n",
              "        document.querySelector('#df-413ca349-9489-4fb8-a69c-2baa8598457d button');\n",
              "      quickchartButtonEl.style.display =\n",
              "        google.colab.kernel.accessAllowed ? 'block' : 'none';\n",
              "    })();\n",
              "  </script>\n",
              "</div>\n",
              "    </div>\n",
              "  </div>\n"
            ]
          },
          "metadata": {},
          "execution_count": 4
        }
      ]
    },
    {
      "cell_type": "code",
      "source": [
        "columns = df.columns.values\n",
        "columns"
      ],
      "metadata": {
        "colab": {
          "base_uri": "https://localhost:8080/"
        },
        "id": "yUXoGMSVRvvr",
        "outputId": "93653d92-c9af-4a6b-b448-94183a05d10b"
      },
      "execution_count": null,
      "outputs": [
        {
          "output_type": "execute_result",
          "data": {
            "text/plain": [
              "array(['id_makanan', 'nama', 'kalori', 'protein', 'bahan', 'cooking_step'],\n",
              "      dtype=object)"
            ]
          },
          "metadata": {},
          "execution_count": 5
        }
      ]
    },
    {
      "cell_type": "code",
      "source": [
        "df.isna().sum()"
      ],
      "metadata": {
        "colab": {
          "base_uri": "https://localhost:8080/"
        },
        "id": "YrCJZepSW_o7",
        "outputId": "fe64d197-dc76-4d96-cd59-315cc7d8d3e1"
      },
      "execution_count": null,
      "outputs": [
        {
          "output_type": "execute_result",
          "data": {
            "text/plain": [
              "id_makanan      0\n",
              "nama            0\n",
              "kalori          0\n",
              "protein         0\n",
              "bahan           0\n",
              "cooking_step    0\n",
              "dtype: int64"
            ]
          },
          "metadata": {},
          "execution_count": 6
        }
      ]
    },
    {
      "cell_type": "code",
      "source": [
        "# simple preprocess df['nama']\n",
        "df['nama'] = df['nama'].apply(html.unescape)"
      ],
      "metadata": {
        "id": "2j5ae2gvg4vv"
      },
      "execution_count": null,
      "outputs": []
    },
    {
      "cell_type": "markdown",
      "source": [
        "# Features Kalorize and KNN Prediction"
      ],
      "metadata": {
        "id": "1iQbT2-nIPqu"
      }
    },
    {
      "cell_type": "code",
      "source": [
        "df_copy = df.copy()\n",
        "\n",
        "df_features = df.iloc[:, 2:4]\n",
        "min_max_scaler = MinMaxScaler()\n",
        "df_features = min_max_scaler.fit_transform(df_features)\n",
        "all_calories = list(df['kalori'].values)"
      ],
      "metadata": {
        "id": "mqrQVvsJJwQp"
      },
      "execution_count": null,
      "outputs": []
    },
    {
      "cell_type": "code",
      "source": [
        "model = NearestNeighbors(n_neighbors=10, algorithm='ball_tree').fit(df_features)\n",
        "# KNN return 2 array yaitu distances dan indices\n",
        "indices = model.kneighbors(df_features, return_distance=False)"
      ],
      "metadata": {
        "id": "o6StYrvWbwbD"
      },
      "execution_count": null,
      "outputs": []
    },
    {
      "cell_type": "code",
      "source": [
        "def closest(all_calories, input):\n",
        "    return all_calories[min(range(len(all_calories)), key=lambda i: abs(all_calories[i]-input))]"
      ],
      "metadata": {
        "id": "N9wn3gF5Js50"
      },
      "execution_count": null,
      "outputs": []
    },
    {
      "cell_type": "code",
      "source": [
        "def calculate_bmr(gender, weight, height, age):\n",
        "    if gender == 'male':\n",
        "        bmr = 10 * weight + 6.25 * height - 5 * age + 5\n",
        "    elif gender == 'female':\n",
        "        bmr = 10 * weight + 6.25 * height - 5 * age - 161\n",
        "    else:\n",
        "        raise ValueError(\"Invalid gender. Please choose 'male' or 'female'.\")\n",
        "    return bmr"
      ],
      "metadata": {
        "id": "lwaa8ORv2-n4"
      },
      "execution_count": null,
      "outputs": []
    },
    {
      "cell_type": "code",
      "source": [
        "def calculate_total_calories(bmr, activity_level, target):\n",
        "    activity_levels = {\n",
        "        'easy': 1.375,\n",
        "        'medium': 1.55,\n",
        "        'hard': 1.725,\n",
        "        'extreme': 1.9\n",
        "    }\n",
        "    targets = {\n",
        "        'reduce_weight': 0.8,\n",
        "        'increase_muscle': 1.2,\n",
        "        'be_healthy': 1\n",
        "    }\n",
        "    maintain_calories = bmr * activity_levels[activity_level]\n",
        "    total_calories = maintain_calories * targets[target]\n",
        "    return total_calories"
      ],
      "metadata": {
        "id": "Ei8uVIVFISD0"
      },
      "execution_count": null,
      "outputs": []
    },
    {
      "cell_type": "code",
      "source": [
        "def recommendation(gender, weight, height, age, activity_level, target):\n",
        "    bmr = calculate_bmr(gender, weight, height, age)\n",
        "    total_calories = calculate_total_calories(bmr, activity_level, target)\n",
        "\n",
        "    breakfast_calories = total_calories * 0.35\n",
        "    lunch_calories = total_calories * 0.40\n",
        "    dinner_calories = total_calories * 0.25\n",
        "\n",
        "    breakfast_closest_food = closest(all_calories, breakfast_calories)\n",
        "    lunch_calories_food = closest(all_calories, lunch_calories)\n",
        "    dinner_calories_food = closest(all_calories, lunch_calories)\n",
        "\n",
        "    breakfast_food_code = all_calories.index(breakfast_closest_food)\n",
        "    lunch_food_code = all_calories.index(lunch_calories_food)\n",
        "    dinner_food_code = all_calories.index(dinner_calories_food)\n",
        "\n",
        "    breakfast_similarity = df.iloc[indices[breakfast_food_code]]\n",
        "    lunch_similarity = df.iloc[indices[lunch_food_code]]\n",
        "    dinner_similarity = df.iloc[indices[dinner_food_code]]\n",
        "\n",
        "    return breakfast_similarity, lunch_similarity, dinner_similarity"
      ],
      "metadata": {
        "id": "HNMcbPIXIm7w"
      },
      "execution_count": null,
      "outputs": []
    },
    {
      "cell_type": "code",
      "source": [
        "gender = 'male'\n",
        "weight = 52\n",
        "height = 169\n",
        "age = 20\n",
        "activity_level = 'medium'\n",
        "target = 'reduce_weight'\n",
        "\n",
        "breakfast, lunch, dinner = recommendation(\n",
        "    gender, weight, height, age, activity_level, target)"
      ],
      "metadata": {
        "id": "eFxFuRipJVOt"
      },
      "execution_count": null,
      "outputs": []
    },
    {
      "cell_type": "code",
      "source": [
        "print(breakfast)\n",
        "print(lunch)\n",
        "print(dinner)"
      ],
      "metadata": {
        "colab": {
          "base_uri": "https://localhost:8080/"
        },
        "id": "Nvdb3QIDKS_s",
        "outputId": "8d4cd5e5-93e9-486a-d807-4ba17729624f"
      },
      "execution_count": null,
      "outputs": [
        {
          "output_type": "stream",
          "name": "stdout",
          "text": [
            "       id_makanan                                               nama  kalori  protein                                              bahan                                       cooking_step\n",
            "816         22562                                      Tiger Waffles   642.8     13.2                                   water, margarine  Change the angle on the George Foreman meat co...\n",
            "8117       267860                          Kifli  (Crescent Cookies)   647.2     12.9  flour, butter, margarine, dry yeast, milk, sug...  DOUGH:, Blend flour and butter thoroughly usin...\n",
            "21250      478799  Roasted Eggplant With Harissa Potatoes and Tom...   656.8     12.6  eggplant, potatoes, tomatoes, water, tomato pa...  Preheat oven to 420 degrees F., Peel eggplant ...\n",
            "15039      374320                        Gram Edna's Fluffy Pancakes   635.1     14.2       flour, baking powder, sugar, salt, egg, milk  Combine Oil, Egg, and Milk., Add remaining ing...\n",
            "14657      368504                          Lemon Syrup Pancake Stack   642.1     14.4  all-purpose flour, baking powder, salt, granul...  FOR THE PANCAKES: In a large bowl, whisk toget...\n",
            "11253      322480               Christopsomo (Greek Christmas Bread)   667.6     12.8  all-purpose flour, salt, dry yeast, warm water...  Mix the yeast with 1/2 cup of warm water and 2...\n",
            "9259       292846                   Easiest Costa Rican Rice & Beans   618.2     13.9     salsa, black beans, rice, bell peppers, onions  Saute onion and bell pepper for about 2 minute...\n",
            "12766      342995  Delicious Gluten-Free, Dairy-Free, Egg-Free Pa...   669.4     12.8  tapioca flour, potato starch, brown sugar, bak...  In a bowl, mix or sift together the rice flour...\n",
            "3797       142525                            Wholesome Nutty Granola   629.5     14.8  rolled oats, walnuts, pecans, sunflower seeds,...  Mix all ingredients except raisins and cranber...\n",
            "17709      412272                                          Cornbread   660.5     11.7                        eggs, sugar, vanilla yogurt  Whisk oil and eggs together.  Add other ingred...\n",
            "       id_makanan                                            nama  kalori  protein                                              bahan                                       cooking_step\n",
            "10964      318675            Turkey Stuffing With Very Low Sodium   735.0     12.2  unsalted butter, onions, celery, mushrooms, ap...  Bake Italian Milano Sourdough Bread in bread m...\n",
            "9802       301423                             Moroccan Vegetables   717.2     11.1  crushed red pepper flakes, cumin seed, fennel ...  Combine red pepper flakes, cumin, coriander an...\n",
            "16575      395860    Indian Yam Fritters / Classic Crunch Patties   724.3     10.3  besan, garam masala, curry powder, sea salt, o...  Wash and peel the yams. Boil until tender, abo...\n",
            "18764      427885                       Plantain Omelette (Vegan)   730.0     14.6  plantains, green bananas, baking powder, cocon...  Cut the ends off the plantains (or bananas and...\n",
            "22684      536547                             Cauliflower Ceviche   693.5     12.5  cauliflower, red onion, cilantro, cumin, salt,...  Place cauliflower in a pot with one inch of sa...\n",
            "3520       135419                                 Italian Dessert   714.9      9.9  zucchini, all-purpose flour, baking soda, baki...  Preheat oven to 350 degrees and generously but...\n",
            "5535       191477                               Easy Spanish Rice   693.1     13.1                                  white rice, salsa  Combine salsa and red pepper sauce., Stir into...\n",
            "16985      401550       Bread Machine Banana Nut Bread Yeast 1 Lb   746.8     15.0  bread flour, whole wheat flour, salt, bananas,...  Put in bread-machine in order above. Set to ba...\n",
            "2474        96178                    Aaloo Chaat (tangy Potatoes)   765.7     14.5  potato, red chili powder, chat masala, coriand...  Heat oil in a pan and add onions fry till they...\n",
            "3370       131557  My Rice Diet: Best Diet Tool Ever, Guaranteed!   723.1     15.1  long grain white rice, prepared mustard, tomat...  Bring 1 cup water to a boil and add 1 cup rice...\n",
            "       id_makanan                                            nama  kalori  protein                                              bahan                                       cooking_step\n",
            "10964      318675            Turkey Stuffing With Very Low Sodium   735.0     12.2  unsalted butter, onions, celery, mushrooms, ap...  Bake Italian Milano Sourdough Bread in bread m...\n",
            "9802       301423                             Moroccan Vegetables   717.2     11.1  crushed red pepper flakes, cumin seed, fennel ...  Combine red pepper flakes, cumin, coriander an...\n",
            "16575      395860    Indian Yam Fritters / Classic Crunch Patties   724.3     10.3  besan, garam masala, curry powder, sea salt, o...  Wash and peel the yams. Boil until tender, abo...\n",
            "18764      427885                       Plantain Omelette (Vegan)   730.0     14.6  plantains, green bananas, baking powder, cocon...  Cut the ends off the plantains (or bananas and...\n",
            "22684      536547                             Cauliflower Ceviche   693.5     12.5  cauliflower, red onion, cilantro, cumin, salt,...  Place cauliflower in a pot with one inch of sa...\n",
            "3520       135419                                 Italian Dessert   714.9      9.9  zucchini, all-purpose flour, baking soda, baki...  Preheat oven to 350 degrees and generously but...\n",
            "5535       191477                               Easy Spanish Rice   693.1     13.1                                  white rice, salsa  Combine salsa and red pepper sauce., Stir into...\n",
            "16985      401550       Bread Machine Banana Nut Bread Yeast 1 Lb   746.8     15.0  bread flour, whole wheat flour, salt, bananas,...  Put in bread-machine in order above. Set to ba...\n",
            "2474        96178                    Aaloo Chaat (tangy Potatoes)   765.7     14.5  potato, red chili powder, chat masala, coriand...  Heat oil in a pan and add onions fry till they...\n",
            "3370       131557  My Rice Diet: Best Diet Tool Ever, Guaranteed!   723.1     15.1  long grain white rice, prepared mustard, tomat...  Bring 1 cup water to a boil and add 1 cup rice...\n"
          ]
        }
      ]
    },
    {
      "cell_type": "markdown",
      "source": [
        "# Data Using Tensorflow"
      ],
      "metadata": {
        "id": "sQKWdvkuMQW4"
      }
    },
    {
      "cell_type": "code",
      "source": [
        "food_data = tf.data.Dataset.from_tensor_slices({\n",
        "    \"id_makanan\": df[\"id_makanan\"].values,\n",
        "    \"nama\": df[\"nama\"].values,\n",
        "})\n",
        "\n",
        "food_ingridient = tf.data.Dataset.from_tensor_slices({\n",
        "    \"nama\": df[\"nama\"].values,\n",
        "    \"kalori\": df[\"kalori\"].values,\n",
        "    \"protein\": df[\"protein\"].values,\n",
        "    'bahan': df['bahan'].values,\n",
        "    'cooking_step': df['cooking_step'].values\n",
        "})\n",
        "\n",
        "food_name = tf.data.Dataset.from_tensor_slices({\n",
        "    \"nama\": df[\"nama\"].values,\n",
        "})\n",
        "\n",
        "tf.random.set_seed(42)\n",
        "shuffled = food_data.shuffle(100_000, seed=42, reshuffle_each_iteration=False)\n",
        "\n",
        "train = food_data.take(80_000)\n",
        "test = food_data.skip(80_000).take(20_000)"
      ],
      "metadata": {
        "id": "VR8GBGNBMT06"
      },
      "execution_count": null,
      "outputs": []
    },
    {
      "cell_type": "code",
      "source": [
        "food_titles = food_name.batch(1_000)\n",
        "food_titles_arrays = food_titles.map(lambda x: x['nama'])\n",
        "\n",
        "food_ids = food_data.batch(1_000_000).map(lambda x: x[\"id_makanan\"])\n",
        "food_ids_np = np.array([x.numpy().tolist() for x in food_ids])\n",
        "unique_food_titles = np.unique(np.concatenate(list(food_titles_arrays)))\n",
        "unique_food_ids = np.unique(np.concatenate(list(food_ids)))\n",
        "unique_food_ids = [str(id) for id in unique_food_ids]\n",
        "\n",
        "unique_food_titles[:10]"
      ],
      "metadata": {
        "colab": {
          "base_uri": "https://localhost:8080/"
        },
        "id": "130Xg3WETboK",
        "outputId": "30d92d69-7f32-47f7-cf7c-40580aa11297"
      },
      "execution_count": null,
      "outputs": [
        {
          "output_type": "execute_result",
          "data": {
            "text/plain": [
              "array([b'\" Berry French Toast\" Oatmeal',\n",
              "       b'\" Better Than Cinnabon\" Cinnamon Rolls',\n",
              "       b'\" Chinese\"  Sweet and Sour Balls', b'\" Hot Tamale\" Burgers',\n",
              "       b'\" I Thought I Had Nothing to Eat\" Rice',\n",
              "       b'\" Jamba Juice at Home\" Strawberries Wild  Smoothie',\n",
              "       b'\" Lemon Coconut Custard\" Pie', b'\" Lite\" Cretons',\n",
              "       b'\" Loaded \" Deviled Eggs', b'\" Ma\\'s\" Oatmeal Cake and Icing'],\n",
              "      dtype=object)"
            ]
          },
          "metadata": {},
          "execution_count": 236
        }
      ]
    },
    {
      "cell_type": "markdown",
      "source": [
        "# Model"
      ],
      "metadata": {
        "id": "MJmarC1OUYNw"
      }
    },
    {
      "cell_type": "code",
      "source": [
        "embedding_dimension = 32"
      ],
      "metadata": {
        "id": "Cc_0U2PjN9ta"
      },
      "execution_count": null,
      "outputs": []
    },
    {
      "cell_type": "code",
      "source": [
        "food_model = tf.keras.Sequential([\n",
        "  tf.keras.layers.StringLookup(\n",
        "      vocabulary=unique_food_ids, mask_token=None),\n",
        "  # We add an additional embedding to account for unknown tokens.\n",
        "  tf.keras.layers.Embedding(len(unique_food_ids) + 1, embedding_dimension)\n",
        "])"
      ],
      "metadata": {
        "id": "xlFSWMMqN-oY"
      },
      "execution_count": null,
      "outputs": []
    },
    {
      "cell_type": "code",
      "source": [
        "food_name_model = tf.keras.Sequential([\n",
        "  tf.keras.layers.StringLookup(\n",
        "      vocabulary=unique_food_titles, mask_token=None),\n",
        "  tf.keras.layers.Embedding(len(unique_food_titles) + 1, embedding_dimension)\n",
        "])"
      ],
      "metadata": {
        "id": "Rki9moZHV1jD"
      },
      "execution_count": null,
      "outputs": []
    },
    {
      "cell_type": "code",
      "source": [
        "metrics = tfrs.metrics.FactorizedTopK(\n",
        "  candidates=food_titles_arrays.batch(128).map(food_name_model)\n",
        ")"
      ],
      "metadata": {
        "id": "2EZkNKLBRwu4"
      },
      "execution_count": null,
      "outputs": []
    },
    {
      "cell_type": "code",
      "source": [
        "task = tfrs.tasks.Retrieval(\n",
        "  metrics=metrics\n",
        ")"
      ],
      "metadata": {
        "id": "iq2E700KR5gW"
      },
      "execution_count": null,
      "outputs": []
    },
    {
      "cell_type": "code",
      "source": [
        "class FoodslensModel(tfrs.Model):\n",
        "\n",
        "  def __init__(self, food_model, food_name_model):\n",
        "    super().__init__()\n",
        "    self.food_name_model: tf.keras.Model = food_name_model\n",
        "    self.food_model: tf.keras.Model = food_model\n",
        "    self.task: tf.keras.layers.Layer = task\n",
        "\n",
        "  def compute_loss(self, features: Dict[Text, tf.Tensor], training=False) -> tf.Tensor:\n",
        "    # We pick out the user features and pass them into the user model.\n",
        "    user_embeddings = self.food_model(features[\"id_makanan\"])\n",
        "    # And pick out the movie features and pass them into the movie model,\n",
        "    # getting embeddings back.\n",
        "    positive_movie_embeddings = self.food_name_model(features[\"nama\"])\n",
        "\n",
        "    # The task computes the loss and the metrics.\n",
        "    return self.task(user_embeddings, positive_movie_embeddings)"
      ],
      "metadata": {
        "id": "Blc5oiB1R7AT"
      },
      "execution_count": null,
      "outputs": []
    },
    {
      "cell_type": "code",
      "source": [
        "class NoBaseClassFoodlensModel(tf.keras.Model):\n",
        "\n",
        "  def __init__(self, food_model, food_name_model):\n",
        "    super().__init__()\n",
        "    self.food_name_model: tf.keras.Model = food_name_model\n",
        "    self.food_model: tf.keras.Model = food_model\n",
        "    self.task: tf.keras.layers.Layer = task\n",
        "\n",
        "  def train_step(self, features: Dict[Text, tf.Tensor]) -> tf.Tensor:\n",
        "\n",
        "    # Set up a gradient tape to record gradients.\n",
        "    with tf.GradientTape() as tape:\n",
        "\n",
        "      # Loss computation.\n",
        "      user_embeddings = self.food_model(features[\"id_makanan\"])\n",
        "      positive_movie_embeddings = self.food_name_model(features[\"nama\"])\n",
        "      loss = self.task(user_embeddings, positive_movie_embeddings)\n",
        "\n",
        "      # Handle regularization losses as well.\n",
        "      regularization_loss = sum(self.losses)\n",
        "\n",
        "      total_loss = loss + regularization_loss\n",
        "\n",
        "    gradients = tape.gradient(total_loss, self.trainable_variables)\n",
        "    self.optimizer.apply_gradients(zip(gradients, self.trainable_variables))\n",
        "\n",
        "    metrics = {metric.name: metric.result() for metric in self.metrics}\n",
        "    metrics[\"loss\"] = loss\n",
        "    metrics[\"regularization_loss\"] = regularization_loss\n",
        "    metrics[\"total_loss\"] = total_loss\n",
        "\n",
        "    return metrics\n",
        "\n",
        "  def test_step(self, features: Dict[Text, tf.Tensor]) -> tf.Tensor:\n",
        "\n",
        "    # Loss computation.\n",
        "    user_embeddings = self.food_model(features[\"id_makanan\"])\n",
        "    positive_movie_embeddings = self.food_name_model(features[\"nama\"])\n",
        "    loss = self.task(user_embeddings, positive_movie_embeddings)\n",
        "\n",
        "    # Handle regularization losses as well.\n",
        "    regularization_loss = sum(self.losses)\n",
        "\n",
        "    total_loss = loss + regularization_loss\n",
        "\n",
        "    metrics = {metric.name: metric.result() for metric in self.metrics}\n",
        "    metrics[\"loss\"] = loss\n",
        "    metrics[\"regularization_loss\"] = regularization_loss\n",
        "    metrics[\"total_loss\"] = total_loss\n",
        "\n",
        "    return metrics"
      ],
      "metadata": {
        "id": "PA_gVE72W-Me"
      },
      "execution_count": null,
      "outputs": []
    },
    {
      "cell_type": "code",
      "source": [
        "model = FoodslensModel(food_model, food_name_model)\n",
        "model.compile(optimizer=tf.keras.optimizers.Adagrad(learning_rate=0.1))"
      ],
      "metadata": {
        "id": "wJBG-s_RXWMn"
      },
      "execution_count": null,
      "outputs": []
    },
    {
      "cell_type": "code",
      "source": [
        "cached_train = train.shuffle(100_000).batch(8192).cache()\n",
        "cached_test = test.batch(4096).cache()"
      ],
      "metadata": {
        "id": "jwvqekjjXdLp"
      },
      "execution_count": null,
      "outputs": []
    }
  ]
}